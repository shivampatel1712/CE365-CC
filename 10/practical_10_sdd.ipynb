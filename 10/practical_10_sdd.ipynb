{
  "nbformat": 4,
  "nbformat_minor": 0,
  "metadata": {
    "colab": {
      "provenance": []
    },
    "kernelspec": {
      "name": "python3",
      "display_name": "Python 3"
    },
    "language_info": {
      "name": "python"
    }
  },
  "cells": [
    {
      "cell_type": "code",
      "execution_count": 1,
      "metadata": {
        "colab": {
          "base_uri": "https://localhost:8080/"
        },
        "id": "zh1Wm6FSMJ-t",
        "outputId": "a922b131-c166-43bd-a2c0-6414e14102c3"
      },
      "outputs": [
        {
          "output_type": "stream",
          "name": "stdout",
          "text": [
            "Expression: (3 + 5) * 2 ^ 3 -> Result: 64.0\n",
            "Expression: 3 + 5 * 2 -> Result: 13.0\n",
            "Expression: 3 + 5 * 2 ^ 2 -> Result: 23.0\n",
            "Expression: 3 + (5 * 2) -> Result: 13.0\n",
            "Expression: 3 + 5 ^ 2 * 2 -> Result: 53.0\n",
            "Expression: 3 * (5 + 2) -> Result: 21.0\n",
            "Expression: (3 + 5) ^ 2 -> Result: 64.0\n",
            "Expression: 3 ^ 2 * 3 -> Result: 27.0\n",
            "Expression: 3 ^ 2 + 5 * 2 -> Result: 19.0\n",
            "Expression: (3 + 5 * 2 ^ 2 - 8) / 4 ^ 2 + 6 -> Result: 6.9375\n"
          ]
        }
      ],
      "source": [
        "import re\n",
        "import operator\n",
        "\n",
        "def evaluate_expression(expression):\n",
        "    try:\n",
        "        precedence = {'+': 1, '-': 1, '*': 2, '/': 2, '^': 3}\n",
        "        operations = {\n",
        "            '+': operator.add,\n",
        "            '-': operator.sub,\n",
        "            '*': operator.mul,\n",
        "            '/': operator.truediv,\n",
        "            '^': operator.pow\n",
        "        }\n",
        "\n",
        "        def apply_operation(operators, values):\n",
        "            op = operators.pop()\n",
        "            right = values.pop()\n",
        "            left = values.pop()\n",
        "            values.append(operations[op](left, right))\n",
        "\n",
        "        def greater_precedence(op1, op2):\n",
        "            return precedence[op1] > precedence[op2]\n",
        "\n",
        "        tokens = re.findall(r'\\d+\\.\\d+|\\d+|[+\\-*/^()]', expression)\n",
        "        values = []\n",
        "        operators = []\n",
        "\n",
        "        for token in tokens:\n",
        "            if token.isdigit() or re.match(r'\\d+\\.\\d+', token):\n",
        "                values.append(float(token))\n",
        "            elif token in precedence:\n",
        "                while (operators and operators[-1] != '(' and\n",
        "                       greater_precedence(operators[-1], token)):\n",
        "                    apply_operation(operators, values)\n",
        "                operators.append(token)\n",
        "            elif token == '(':\n",
        "                operators.append(token)\n",
        "            elif token == ')':\n",
        "                while operators and operators[-1] != '(':\n",
        "                    apply_operation(operators, values)\n",
        "                operators.pop()\n",
        "\n",
        "        while operators:\n",
        "            apply_operation(operators, values)\n",
        "\n",
        "        return values[0]\n",
        "    except Exception:\n",
        "        return \"Invalid expression\"\n",
        "\n",
        "expressions = [\n",
        "    \"(3 + 5) * 2 ^ 3\",\n",
        "    \"3 + 5 * 2\",\n",
        "    \"3 + 5 * 2 ^ 2\",\n",
        "    \"3 + (5 * 2)\",\n",
        "    \"3 + 5 ^ 2 * 2\",\n",
        "    \"3 * (5 + 2)\",\n",
        "    \"(3 + 5) ^ 2\",\n",
        "    \"3 ^ 2 * 3\",\n",
        "    \"3 ^ 2 + 5 * 2\",\n",
        "    \"(3 + 5 * 2 ^ 2 - 8) / 4 ^ 2 + 6\"\n",
        "]\n",
        "\n",
        "for expr in expressions:\n",
        "    print(f\"Expression: {expr} -> Result: {evaluate_expression(expr)}\")\n"
      ]
    },
    {
      "cell_type": "code",
      "source": [],
      "metadata": {
        "id": "TXcJWVQCNHLY"
      },
      "execution_count": null,
      "outputs": []
    }
  ]
}